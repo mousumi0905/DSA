{
  "nbformat": 4,
  "nbformat_minor": 0,
  "metadata": {
    "colab": {
      "provenance": []
    },
    "kernelspec": {
      "name": "python3",
      "display_name": "Python 3"
    },
    "language_info": {
      "name": "python"
    }
  },
  "cells": [
    {
      "cell_type": "markdown",
      "source": [
        "fraction knapsack"
      ],
      "metadata": {
        "id": "cnOcM8H0kElS"
      }
    },
    {
      "cell_type": "code",
      "source": [
        "class items:\n",
        "  def __init__(self,value,weight):\n",
        "     self.value=value\n",
        "     self.weight=weight\n",
        "     self.ratio=value/weight\n",
        "def fractionknapsack(items,capacity):\n",
        "    items.sort(key=lambda x: x.ratio, reverse = True)\n",
        "    value=0\n",
        "    for i in items:\n",
        "       if i.weight<=capacity:\n",
        "         capacity=capacity - i.weight\n",
        "         value=value+i.value\n",
        "         \n",
        "       elif i.weight>capacity:\n",
        "         value=value+i.ratio*capacity\n",
        "         capacity=0\n",
        "       if capacity==0:\n",
        "         break\n",
        "         \n",
        "    return value\n",
        "\n",
        "item1 = items(100,20)\n",
        "item2 = items(120,30)\n",
        "item3=items(60,10)\n",
        "List = [item1, item2, item3]\n",
        "\n",
        "fractionknapsack(List, 42)\n",
        "\n",
        "\n",
        "    "
      ],
      "metadata": {
        "colab": {
          "base_uri": "https://localhost:8080/"
        },
        "id": "gOezugqePwtc",
        "outputId": "b76c55c3-465f-43e6-b53b-93c39953ecaf"
      },
      "execution_count": null,
      "outputs": [
        {
          "output_type": "execute_result",
          "data": {
            "text/plain": [
              "208.0"
            ]
          },
          "metadata": {},
          "execution_count": 6
        }
      ]
    },
    {
      "cell_type": "markdown",
      "source": [
        "Activity selection"
      ],
      "metadata": {
        "id": "gPRmbgFlP3oo"
      }
    },
    {
      "cell_type": "code",
      "source": [
        "activities = [[\"A1\", 0, 6],\n",
        "              [\"A2\", 3, 4],\n",
        "              [\"A3\", 1, 2],\n",
        "              [\"A4\", 5, 8],\n",
        "              [\"A5\", 5, 7],\n",
        "              [\"A6\", 8, 9]\n",
        "                ]\n",
        "def activity_selection(activities):\n",
        "  list=[]\n",
        "  activities.sort(key=lambda x:x[2])\n",
        "  i=0\n",
        "  first= activities[i]\n",
        "  list.append(first[0])\n",
        "  for j in range(1,len(activities)):\n",
        "    if activities[j][1]>activities[i][2]:\n",
        "        list.append(activities[j][0])\n",
        "        i=j\n",
        "  return list\n",
        "activity_selection(activities)    \n",
        "     "
      ],
      "metadata": {
        "id": "Jc70QDqxP6li",
        "colab": {
          "base_uri": "https://localhost:8080/"
        },
        "outputId": "86bbf69a-f812-49b4-ed0e-f6ca7416cf98"
      },
      "execution_count": 13,
      "outputs": [
        {
          "output_type": "execute_result",
          "data": {
            "text/plain": [
              "['A3', 'A2', 'A5', 'A6']"
            ]
          },
          "metadata": {},
          "execution_count": 13
        }
      ]
    },
    {
      "cell_type": "markdown",
      "source": [
        "coin change"
      ],
      "metadata": {
        "id": "MrzIyTI6xzI0"
      }
    },
    {
      "cell_type": "code",
      "source": [
        "def coinchange(coins,total_amount):\n",
        "   coins.sort()\n",
        "   n=len(coins)-1\n",
        "   count=0\n",
        "   list=[]\n",
        "   while True:\n",
        "      if total_amount==0:\n",
        "        break\n",
        "      elif total_amount>=coins[n]:\n",
        "        total_amount=total_amount-coins[n]\n",
        "        list.append(coins[n])\n",
        "        count=count+1\n",
        "      elif total_amount<coins[n]:\n",
        "        n=n-1\n",
        "   return count,list\n",
        "coinchange([1,2,10,100,1000],513)\n",
        "\n"
      ],
      "metadata": {
        "colab": {
          "base_uri": "https://localhost:8080/"
        },
        "id": "q1qkhghKx0e-",
        "outputId": "7a25316e-9534-462a-d5a6-ba1e7e0c4adc"
      },
      "execution_count": null,
      "outputs": [
        {
          "output_type": "execute_result",
          "data": {
            "text/plain": [
              "(8, [100, 100, 100, 100, 100, 10, 2, 1])"
            ]
          },
          "metadata": {},
          "execution_count": 10
        }
      ]
    }
  ]
}